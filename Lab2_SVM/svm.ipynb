{
 "cells": [
  {
   "cell_type": "code",
   "execution_count": 539,
   "metadata": {},
   "outputs": [],
   "source": [
    "import numpy as np\n",
    "import matplotlib.pyplot as plt\n",
    "import random \n",
    "import math\n",
    "from scipy.optimize import minimize "
   ]
  },
  {
   "cell_type": "code",
   "execution_count": 854,
   "metadata": {},
   "outputs": [],
   "source": [
    "# Generate data\n",
    "global inputs\n",
    "global targets\n",
    "global N\n",
    "\n",
    "classA = np.concatenate((np.random.randn(10, 2) * 0.2 + [1.5, 0.5], np.random.randn(10, 2) * 0.2 + [-1.5, 0.5])) \n",
    "classB = np.random.randn(20, 2) * 0.2 + [0.0, -0.5]\n",
    "# classB = np.random.randn(20, 2) * 0.2 + [0.5, 0.0]\n",
    "\n",
    "inputs = np.concatenate((classA, classB)) \n",
    "targets = np.concatenate((np.ones(classA.shape[0]), -np.ones(classB.shape[0])))\n",
    "\n",
    "np.random.seed(100)\n",
    "N = inputs.shape [0] # Number of rows (samples)\n",
    "permute = list(range(N))\n",
    "np.random.shuffle(permute)\n",
    "inputs = inputs[permute,:]\n",
    "targets = targets[permute]\n",
    "\n",
    "# inputs = np.array([[0,1],[0,-1], [-1, 0.5], [-1, -1.5]])\n",
    "# targets = np.array([1,-1,1,-1])\n",
    "# N = 4"
   ]
  },
  {
   "cell_type": "code",
   "execution_count": 855,
   "metadata": {},
   "outputs": [
    {
     "data": {
      "image/png": "[encoded data removed]",
      "text/plain": [
       "<Figure size 432x288 with 1 Axes>"
      ]
     },
     "metadata": {
      "needs_background": "light"
     },
     "output_type": "display_data"
    }
   ],
   "source": [
    "# Plot data\n",
    "\n",
    "plt.plot([p[0] for p in classA], [p[1] for p in classA], 'b.')\n",
    "plt.plot([p[0] for p in classB], [p[1] for p in classB], 'r.')\n",
    "plt.axis('equal')\n",
    "plt.show()"
   ]
  },
  {
   "cell_type": "code",
   "execution_count": 856,
   "metadata": {},
   "outputs": [],
   "source": [
    "# Kernels\n",
    "\n",
    "def linear_kernel(x1, x2):\n",
    "    \"\"\"The linear kernel returns the dot product between the two datapoints \n",
    "    x1 and x2\"\"\"\n",
    "    return np.dot(x1, x2)\n",
    "\n",
    "def polynomial_kernel(x1, x2):\n",
    "    \"\"\"Returnes the value of the polynomial kernel between the vectors x1 and x2\"\"\"\n",
    "    p = 2   # Tuning parameter\n",
    "    return ((np.dot(x1,x2) + 1) ** p)\n",
    "\n",
    "def RBF_kernel(x1, x2):\n",
    "    \"\"\"\"Returnes the value of the RBF kernel between the vectors x1 and x2\"\"\"\n",
    "    sigma = 0.5   # Tuning parameter\n",
    "    exponential = -1 * ((np.linalg.norm(x1-x2) ** 2) / (2 * (sigma ** 2)))\n",
    "    return np.exp(exponential)"
   ]
  },
  {
   "cell_type": "code",
   "execution_count": 885,
   "metadata": {},
   "outputs": [],
   "source": [
    "# Precompute\n",
    "\n",
    "kernel = linear_kernel      # Declare which kernel to use for the computations\n",
    "C = np.inf                  # Specify the value of the slack paramter\n",
    "\n",
    "kappa = np.zeros((N,N))  # Precompute matrix storing values of kenel function applied to vector i and j in entry(i,j)\n",
    "for i in range(N):\n",
    "    for j in range(N):\n",
    "        x1 = inputs[i,:]\n",
    "        x2 = inputs[j,:]\n",
    "        kappa[i,j] = kernel(x1, x2)\n",
    "        \n",
    "global P\n",
    "P = np.zeros((N,N))      # Matrix to store results for efficient computations\n",
    "for i in range(N):\n",
    "    for j in range(N):\n",
    "        P[i,j] = targets[i] * targets[j] * kappa[i,j]"
   ]
  },
  {
   "cell_type": "code",
   "execution_count": 886,
   "metadata": {},
   "outputs": [],
   "source": [
    "# Define functions for what to optimize under which constraints\n",
    "\n",
    "def objective(alpha):\n",
    "    \"\"\"Returnes the value of the objective function for a certain alpha vector\"\"\"\n",
    "#     first_sum = 0.5 * (np.sum(np.multiply(alpha @ alpha.T, P)))\n",
    "#     second_sum = np.sum(alpha)\n",
    "#     return first_sum - second_sum\n",
    "    value = 0\n",
    "    for i in range(N):\n",
    "        for j in range(N):\n",
    "            value += alpha[i] * alpha[j] * P[i,j]\n",
    "    value *= 0.5\n",
    "    value -= np.sum(alpha)\n",
    "    return value\n",
    "\n",
    "def zerofun(alpha):\n",
    "    \"\"\"Returnes the values of the constraint. The constraint is supposed to \n",
    "    be zero.\"\"\"\n",
    "    return np.dot(alpha, targets)\n"
   ]
  },
  {
   "cell_type": "code",
   "execution_count": 887,
   "metadata": {},
   "outputs": [
    {
     "name": "stdout",
     "output_type": "stream",
     "text": [
      "True\n"
     ]
    }
   ],
   "source": [
    "# Call minimize to minimize alpha with appropriate constraints\n",
    "\n",
    "# Find alpha vector\n",
    "initial_guess = np.zeros(N)\n",
    "B = [(0,C) for i in range(N)]  # Lägg till C som upper bound om det behövs för slack\n",
    "XC = {'type':'eq', 'fun':zerofun}\n",
    "returned = minimize(objective, initial_guess, bounds=B, constraints=XC)\n",
    "alpha = returned['x']\n",
    "found_solution = returned['success']\n",
    "print(found_solution)\n",
    "\n",
    "# Extract non-zero alpha values from alpha vector\n",
    "global nonzero_alphas, corresponding_inputs, corresponding_targets\n",
    "nonzero_alphas = []\n",
    "corresponding_inputs = []\n",
    "corresponding_targets = []\n",
    "nonzero_index = []\n",
    "threshold = 10 ** (-5)   # Due to dealing with floating point numbers\n",
    "\n",
    "\n",
    "# Store them in lists\n",
    "for i in range(len(alpha)):\n",
    "    if alpha[i] > threshold:\n",
    "        nonzero_alphas.append(alpha[i])\n",
    "        corresponding_inputs.append(inputs[i,:])\n",
    "        corresponding_targets.append(targets[i])\n",
    "        nonzero_index.append(i)\n",
    "corresponding_inputs = np.array(corresponding_inputs)  # Convert to numpy array"
   ]
  },
  {
   "cell_type": "code",
   "execution_count": 888,
   "metadata": {},
   "outputs": [],
   "source": [
    "# Calculate b\n",
    "\n",
    "for i in range(len(nonzero_alphas)):\n",
    "    if nonzero_alphas[i] < C:\n",
    "        index_SV = i\n",
    "        break\n",
    "        \n",
    "global b\n",
    "b = 0\n",
    "support_vector = corresponding_inputs[index_SV,:]\n",
    "for i in range(len(nonzero_alphas)):\n",
    "    ker = kernel(support_vector, corresponding_inputs[i,:])\n",
    "    b += nonzero_alphas[i] * corresponding_targets[i] * ker\n",
    "b -= corresponding_targets[index_SV]"
   ]
  },
  {
   "cell_type": "code",
   "execution_count": 889,
   "metadata": {},
   "outputs": [],
   "source": [
    "# Indicator function\n",
    "\n",
    "def indicator(s, kernel):\n",
    "    \"\"\"Classifies as one if ind > 0 and as minus one otherwise. kernel is the kernel function that will be used.\n",
    "    \"\"\"\n",
    "    s = np.array(s)\n",
    "    ind = 0\n",
    "    for i in range(len(nonzero_alphas)):\n",
    "        ind += nonzero_alphas[i] * corresponding_targets[i] * kernel(s, corresponding_inputs[i,:])\n",
    "    ind -= b\n",
    "    return ind"
   ]
  },
  {
   "cell_type": "code",
   "execution_count": 892,
   "metadata": {},
   "outputs": [
    {
     "data": {
      "image/png": "[encoded data removed]",
      "text/plain": [
       "<Figure size 432x288 with 1 Axes>"
      ]
     },
     "metadata": {
      "needs_background": "light"
     },
     "output_type": "display_data"
    }
   ],
   "source": [
    "# Plot desicion boundary\n",
    "\n",
    "xgrid = np.linspace(-5,5) \n",
    "ygrid = np.linspace(-4,4)\n",
    "grid = np.array([[indicator([x,y], kernel) for x in xgrid] for y in ygrid])\n",
    "plt.contour(xgrid, ygrid, grid.round(2), (-1.0, 0.0, 1.0), colors=('red', 'black', 'blue'), linewidths=(1,2,1))\n",
    "# plt.plot([p[0] for p in inputs], [p[1] for p in inputs], 'g.', markersize=12)\n",
    "\n",
    "plt.plot([p[0] for p in classA], [p[1] for p in classA], 'b.')\n",
    "plt.plot([p[0] for p in classB], [p[1] for p in classB], 'r.')\n",
    "plt.axis('equal')\n",
    "plt.title('Linear kernel. C = infinity')\n",
    "plt.savefig('svmplotsCinf_linear_kernel.pdf')\n",
    "plt.show()"
   ]
  },
  {
   "cell_type": "code",
   "execution_count": null,
   "metadata": {},
   "outputs": [],
   "source": []
  },
  {
   "cell_type": "code",
   "execution_count": null,
   "metadata": {},
   "outputs": [],
   "source": []
  },
  {
   "cell_type": "code",
   "execution_count": null,
   "metadata": {},
   "outputs": [],
   "source": []
  },
  {
   "cell_type": "code",
   "execution_count": null,
   "metadata": {},
   "outputs": [],
   "source": []
  }
 ],
 "metadata": {
  "kernelspec": {
   "display_name": "Python 3",
   "language": "python",
   "name": "python3"
  },
  "language_info": {
   "codemirror_mode": {
    "name": "ipython",
    "version": 3
   },
   "file_extension": ".py",
   "mimetype": "text/x-python",
   "name": "python",
   "nbconvert_exporter": "python",
   "pygments_lexer": "ipython3",
   "version": "3.7.6"
  }
 },
 "nbformat": 4,
 "nbformat_minor": 4
}
